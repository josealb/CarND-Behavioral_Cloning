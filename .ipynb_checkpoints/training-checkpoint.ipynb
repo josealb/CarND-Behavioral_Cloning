{
 "cells": [
  {
   "cell_type": "markdown",
   "metadata": {},
   "source": [
    "# Training driving model with behavioral cloning"
   ]
  },
  {
   "cell_type": "markdown",
   "metadata": {},
   "source": [
    "## In this notebook, we will train a NN using samples obtained from Udacity Simulator"
   ]
  },
  {
   "cell_type": "code",
   "execution_count": 1,
   "metadata": {},
   "outputs": [
    {
     "name": "stdout",
     "output_type": "stream",
     "text": [
      "/media/josealb/HDD_1/Datasets/Self_driving/Simulator_Data/Merge/right_lane_2\n",
      "/media/josealb/HDD_1/Datasets/Self_driving/Simulator_Data/Merge/right_lane_2/IMG\n",
      "/media/josealb/HDD_1/Datasets/Self_driving/Simulator_Data/Merge/track_2_right_lane\n",
      "/media/josealb/HDD_1/Datasets/Self_driving/Simulator_Data/Merge/track_2_right_lane/IMG\n",
      "/media/josealb/HDD_1/Datasets/Self_driving/Simulator_Data/Merge/right_lane_2/driving_log.csv\n",
      "/media/josealb/HDD_1/Datasets/Self_driving/Simulator_Data/Merge/track_2_right_lane/driving_log.csv\n"
     ]
    }
   ],
   "source": [
    "import os\n",
    "from os import listdir\n",
    "from os.path import isfile, join\n",
    "from shutil import copyfile\n",
    "import pandas\n",
    "import fileinput\n",
    "#Create directory with all data merged into one\n",
    "datafolder = '/media/josealb/HDD_1/Datasets/Self_driving/Simulator_Data/Merge'\n",
    "outputfolder = '/media/josealb/HDD_1/Datasets/Self_driving/Simulator_Data/All_tracks'\n",
    "subdirs = [x[0] for x in os.walk(datafolder)] \n",
    "subdirs.pop(0)\n",
    "subdirs\n",
    "fileList=[]\n",
    "os.mkdir(outputfolder)\n",
    "os.mkdir(outputfolder+'/IMG') \n",
    "\n",
    "\n",
    "for dir in subdirs:\n",
    "    if \"IMG\" in dir:\n",
    "        print(dir)\n",
    "        files= [f for f in listdir(dir) if isfile(join(dir, f))]\n",
    "        for file in files:\n",
    "            copyfile(dir+'/'+file,outputfolder+'/IMG/'+file)\n",
    "    if \"IMG\" not in dir:\n",
    "        print(dir)\n",
    "        fileList.append(dir+'/driving_log.csv')\n",
    "        \n",
    "dfList=[]\n",
    "for filename in fileList:\n",
    "    print(filename)\n",
    "    df=pandas.read_csv(filename,header=None)\n",
    "    dfList.append(df)\n",
    "concatDf=pandas.concat(dfList,axis=0)\n",
    "concatDf.to_csv(outputfolder+'/driving_log.csv',index=None,header=None)\n",
    "\n",
    "with fileinput.FileInput(outputfolder+'/driving_log.csv', inplace=True, backup='.bak') as file:\n",
    "    for line in file:\n",
    "        print(line.replace('\\\\', '/'), end='')"
   ]
  },
  {
   "cell_type": "code",
   "execution_count": null,
   "metadata": {
    "collapsed": true
   },
   "outputs": [],
   "source": [
    "filelist"
   ]
  },
  {
   "cell_type": "code",
   "execution_count": 3,
   "metadata": {},
   "outputs": [
    {
     "name": "stdout",
     "output_type": "stream",
     "text": [
      "Epoch 1/3\n",
      "35601/35601 [==============================] - 50s - loss: 0.2336 - val_loss: 0.1426\n",
      "Epoch 2/3\n",
      "35601/35601 [==============================] - 45s - loss: 0.0482 - val_loss: 0.0989\n",
      "Epoch 3/3\n",
      "35601/35601 [==============================] - 44s - loss: 0.0434 - val_loss: 0.0801\n"
     ]
    }
   ],
   "source": [
    "import os\n",
    "import csv\n",
    "import pdb\n",
    "\n",
    "from keras.models import Sequential\n",
    "from keras.layers.core import Dense, Activation, Flatten, Lambda\n",
    "from keras.layers import Cropping2D\n",
    "from keras.layers.convolutional import Convolution2D, Conv2D\n",
    "from keras.layers import Dropout\n",
    "from keras.layers.normalization import BatchNormalization\n",
    "from keras.callbacks import ModelCheckpoint\n",
    "from keras import optimizers\n",
    "\n",
    "\n",
    "datafolder = '/media/josealb/HDD_1/Datasets/Self_driving/Simulator_Data/All_tracks_2_right_lane/'\n",
    "#datafolder = '/media/josealb/HDD_1/Datasets/Self_driving/Simulator_Data/track_2_right_lane/'\n",
    "\n",
    "\n",
    "samples = []\n",
    "\n",
    "with open(datafolder+'driving_log.csv') as csvfile:\n",
    "    reader = csv.reader(csvfile)\n",
    "    for line in reader:\n",
    "        samples.append(line)\n",
    "            \n",
    "            \n",
    "#subdirs = [x[0] for x in os.walk(datafolder)] \n",
    "#subdirs.pop(0)\n",
    "#for dir in subdirs:\n",
    "    \n",
    "\n",
    "#elliminate straight driving \n",
    "#for line in samples\n",
    "#    if line[3]<0.2:\n",
    "#        if rand(1,3) not 1:\n",
    "\n",
    "#from Jeremmy-Shannon's Github\n",
    "#remove_list = []\n",
    "#for i in range(len(angles)):\n",
    "#    for j in range(num_bins):\n",
    "#        if angles[i] > bins[j] and angles[i] <= bins[j+1]:\n",
    "#            # delete from X and y with probability 1 - keep_probs[j]\n",
    "#            if np.random.rand() > keep_probs[j]:\n",
    "#                remove_list.append(i)\n",
    "#image_paths = np.delete(image_paths, remove_list, axis=0)\n",
    "#angles = np.delete(angles, remove_list)            \n",
    "        \n",
    "        \n",
    "from sklearn.model_selection import train_test_split\n",
    "from sklearn.utils import shuffle\n",
    "\n",
    "train_samples, validation_samples = train_test_split(samples, test_size=0.2)\n",
    "\n",
    "import cv2\n",
    "import numpy as np\n",
    "import sklearn\n",
    "\n",
    "def random_augmentation(image,steering_angle):\n",
    "    if rand(0,1)>0:\n",
    "        image=np.fliplr(image)\n",
    "        angle=-angle\n",
    "    return image, steering_angle\n",
    "        \n",
    "\n",
    "\n",
    "def generator(samples, batch_size=32):\n",
    "    num_samples = len(samples)\n",
    "    while 1: # Loop forever so the generator never terminates\n",
    "        shuffle(samples)\n",
    "        for offset in range(0, num_samples, batch_size):\n",
    "            batch_samples = samples[offset:offset+batch_size]\n",
    "\n",
    "            images = []\n",
    "            angles = []\n",
    "            for batch_sample in batch_samples:\n",
    "                name_center = datafolder+'IMG/'+batch_sample[0].split('/')[-1]\n",
    "                name_left = datafolder+'IMG/'+batch_sample[1].split('/')[-1]\n",
    "                name_right = datafolder+'IMG/'+batch_sample[2].split('/')[-1]\n",
    "\n",
    "                #name = datafolder+'IMG/'+batch_sample[0].split('\\\\')[-1]\n",
    "\n",
    "                original_center = cv2.imread(name_center)\n",
    "                center_image = cv2.cvtColor(original_center, cv2.COLOR_BGR2RGB)\n",
    "\n",
    "                original_left = cv2.imread(name_left)\n",
    "                left_image=cv2.cvtColor(original_left, cv2.COLOR_BGR2RGB)\n",
    "                \n",
    "                original_right = cv2.imread(name_right)\n",
    "                right_image=cv2.cvtColor(original_right, cv2.COLOR_BGR2RGB)\n",
    "                \n",
    "                if center_image is None:\n",
    "                    pdb.set_trace()\n",
    "\n",
    "                center_angle = float(batch_sample[3])\n",
    "                center_angle = center_angle #Makes Neural network turn more aggresively\n",
    "                correction = 0.25\n",
    "                \n",
    "                left_angle = center_angle + correction #Udacity has + here\n",
    "                right_angle= center_angle - correction\n",
    "                \n",
    "                \n",
    "                images.append(center_image) #should be made random\n",
    "                angles.append(center_angle)\n",
    "                images.append(left_image)\n",
    "                angles.append(left_angle)\n",
    "                images.append(right_image)\n",
    "                angles.append(right_angle)     \n",
    "                   \n",
    "            # trim image to only see section with road\n",
    "            X_train = np.array(images)\n",
    "            y_train = np.array(angles)\n",
    "            yield sklearn.utils.shuffle(X_train, y_train)\n",
    "\n",
    "# compile and train the model using the generator function\n",
    "train_generator = generator(train_samples, batch_size=128)\n",
    "validation_generator = generator(validation_samples, batch_size=128)\n",
    "\n",
    "#ch, row, col = 3, 80, 320  # Trimmed image format\n",
    "ch, row, col = 3, 160, 320  # UnTrimmed image format\n",
    "#ELU instead of RELU?\n",
    "\n",
    "model = Sequential()\n",
    "# Preprocess incoming data, centered around zero with small standard deviation \n",
    "\n",
    "model.add(Cropping2D(cropping=((50,20), (0,0)), input_shape=(row,col,ch)))\n",
    "model.add(Lambda(lambda x: x/127.5 - 1.))#,\n",
    "       # input_shape=(row, col, ch),\n",
    "        #output_shape=(row, col, ch)))\n",
    "#model.add(BatchNormalization())\n",
    "\n",
    "model.add(Conv2D(34,5,5,subsample=(2,2), activation=\"elu\"))\n",
    "model.add(BatchNormalization())\n",
    "model.add(Convolution2D(46,5,5,subsample=(2,2), activation=\"elu\"))\n",
    "model.add(BatchNormalization())\n",
    "model.add(Convolution2D(58,5,5,subsample=(2,2), activation=\"elu\"))\n",
    "model.add(BatchNormalization())\n",
    "model.add(Convolution2D(74,3,3, activation=\"elu\"))\n",
    "model.add(BatchNormalization())\n",
    "model.add(Convolution2D(74,3,3, activation=\"elu\"))\n",
    "model.add(BatchNormalization())\n",
    "model.add(Dropout(0.3))\n",
    "model.add(Flatten())\n",
    "model.add(Dense(1164))\n",
    "model.add(BatchNormalization())\n",
    "model.add(Dense(200))\n",
    "model.add(BatchNormalization())\n",
    "#model.add(Dropout(0.5))\n",
    "model.add(Dense(100))\n",
    "model.add(BatchNormalization())\n",
    "#model.add(Dropout(0.5))\n",
    "model.add(Dense(20))\n",
    "model.add(BatchNormalization())\n",
    "#model.add(Dropout(0.5))\n",
    "model.add(BatchNormalization())\n",
    "model.add(Dense(1))\n",
    "\n",
    "\n",
    "\n",
    "\n",
    "#model.add(Convolution2D(24,9,9, activation=\"relu\"))\n",
    "#model.add(BatchNormalization())\n",
    "#model.add(Convolution2D(24,5,5,subsample=(2,2), activation=\"relu\"))\n",
    "#model.add(BatchNormalization())\n",
    "#model.add(Convolution2D(48,5,5,subsample=(2,2), activation=\"relu\"))\n",
    "#model.add(BatchNormalization())\n",
    "#model.add(Convolution2D(64,3,3,subsample=(2,2), activation=\"relu\"))\n",
    "#model.add(BatchNormalization())\n",
    "#model.add(Convolution2D(64,3,3,subsample=(2,2), activation=\"relu\"))\n",
    "#model.add(BatchNormalization())\n",
    "#model.add(Flatten())\n",
    "#model.add(Dense(100))\n",
    "#model.add(BatchNormalization())\n",
    "#model.add(Dense(50))\n",
    "#model.add(BatchNormalization())\n",
    "#model.add(Dense(10))\n",
    "#model.add(BatchNormalization())\n",
    "#model.add(Dense(1))\n",
    "\n",
    "\n",
    "\n",
    "#adam = optimizers.Adam(lr=0.001)\n",
    "\n",
    "model.compile(loss='mse', optimizer='adam')\n",
    "\n",
    "checkpoint = ModelCheckpoint('model-{epoch:03d}-{val_loss:03f}.h5',\n",
    "                            monitor='val_loss',\n",
    "                            verbose=0,\n",
    "                            save_best_only=True,\n",
    "                            mode = 'auto')\n",
    "\n",
    "model.fit_generator(train_generator, samples_per_epoch= \\\n",
    "            len(train_samples)*3, validation_data=validation_generator, \\\n",
    "            nb_val_samples=len(validation_samples)*3, nb_epoch=3, callbacks= [checkpoint], verbose=1)\n",
    "\n",
    "model.save('model.h5')"
   ]
  },
  {
   "cell_type": "code",
   "execution_count": 4,
   "metadata": {
    "collapsed": true
   },
   "outputs": [],
   "source": [
    "adam.lr=0.0001"
   ]
  },
  {
   "cell_type": "code",
   "execution_count": 6,
   "metadata": {},
   "outputs": [
    {
     "name": "stdout",
     "output_type": "stream",
     "text": [
      "Epoch 1/50\n",
      "28473/28473 [==============================] - 41s - loss: 0.0691 - val_loss: 0.0611\n",
      "Epoch 2/50\n",
      "28473/28473 [==============================] - 37s - loss: 0.0701 - val_loss: 0.0619\n",
      "Epoch 3/50\n",
      "28473/28473 [==============================] - 37s - loss: 0.0707 - val_loss: 0.0612\n",
      "Epoch 4/50\n",
      "28473/28473 [==============================] - 37s - loss: 0.0683 - val_loss: 0.0597\n",
      "Epoch 5/50\n",
      "28473/28473 [==============================] - 37s - loss: 0.0702 - val_loss: 0.0599\n",
      "Epoch 6/50\n",
      "28473/28473 [==============================] - 37s - loss: 0.0698 - val_loss: 0.0609\n",
      "Epoch 7/50\n",
      "28473/28473 [==============================] - 37s - loss: 0.0701 - val_loss: 0.0622\n",
      "Epoch 8/50\n",
      "28473/28473 [==============================] - 37s - loss: 0.0683 - val_loss: 0.0606\n",
      "Epoch 9/50\n",
      "28473/28473 [==============================] - 36s - loss: 0.0683 - val_loss: 0.0605\n",
      "Epoch 10/50\n",
      "28473/28473 [==============================] - 37s - loss: 0.0681 - val_loss: 0.0600\n",
      "Epoch 11/50\n",
      "28473/28473 [==============================] - 37s - loss: 0.0659 - val_loss: 0.0586\n",
      "Epoch 12/50\n",
      "28473/28473 [==============================] - 37s - loss: 0.0670 - val_loss: 0.0594\n",
      "Epoch 13/50\n",
      "28473/28473 [==============================] - 36s - loss: 0.0656 - val_loss: 0.0604\n",
      "Epoch 14/50\n",
      "28473/28473 [==============================] - 36s - loss: 0.0675 - val_loss: 0.0609\n",
      "Epoch 15/50\n",
      "28473/28473 [==============================] - 36s - loss: 0.0657 - val_loss: 0.0600\n",
      "Epoch 16/50\n",
      "28473/28473 [==============================] - 36s - loss: 0.0669 - val_loss: 0.0601\n",
      "Epoch 17/50\n",
      "28473/28473 [==============================] - 36s - loss: 0.0669 - val_loss: 0.0612\n",
      "Epoch 18/50\n",
      "28473/28473 [==============================] - 36s - loss: 0.0665 - val_loss: 0.0624\n",
      "Epoch 19/50\n",
      "28473/28473 [==============================] - 36s - loss: 0.0675 - val_loss: 0.0612\n",
      "Epoch 20/50\n",
      "28473/28473 [==============================] - 36s - loss: 0.0667 - val_loss: 0.0619\n",
      "Epoch 21/50\n",
      "28473/28473 [==============================] - 36s - loss: 0.0647 - val_loss: 0.0645\n",
      "Epoch 22/50\n",
      "28473/28473 [==============================] - 36s - loss: 0.0664 - val_loss: 0.0633\n",
      "Epoch 23/50\n",
      "28473/28473 [==============================] - 36s - loss: 0.0638 - val_loss: 0.0593\n",
      "Epoch 24/50\n",
      "28473/28473 [==============================] - 36s - loss: 0.0646 - val_loss: 0.0626\n",
      "Epoch 25/50\n",
      "28473/28473 [==============================] - 36s - loss: 0.0668 - val_loss: 0.0608\n",
      "Epoch 26/50\n",
      "28473/28473 [==============================] - 36s - loss: 0.0644 - val_loss: 0.0627\n",
      "Epoch 27/50\n",
      "28473/28473 [==============================] - 36s - loss: 0.0630 - val_loss: 0.0609\n",
      "Epoch 28/50\n",
      "28473/28473 [==============================] - 36s - loss: 0.0628 - val_loss: 0.0615\n",
      "Epoch 29/50\n",
      "28473/28473 [==============================] - 36s - loss: 0.0635 - val_loss: 0.0613\n",
      "Epoch 30/50\n",
      "28473/28473 [==============================] - 36s - loss: 0.0625 - val_loss: 0.0616\n",
      "Epoch 31/50\n",
      "28473/28473 [==============================] - 36s - loss: 0.0635 - val_loss: 0.0612\n",
      "Epoch 32/50\n",
      "28473/28473 [==============================] - 36s - loss: 0.0648 - val_loss: 0.0629\n",
      "Epoch 33/50\n",
      "28473/28473 [==============================] - 36s - loss: 0.0621 - val_loss: 0.0617\n",
      "Epoch 34/50\n",
      "28473/28473 [==============================] - 36s - loss: 0.0616 - val_loss: 0.0601\n",
      "Epoch 35/50\n",
      "28473/28473 [==============================] - 36s - loss: 0.0604 - val_loss: 0.0601\n",
      "Epoch 36/50\n",
      "28473/28473 [==============================] - 36s - loss: 0.0605 - val_loss: 0.0611\n",
      "Epoch 37/50\n",
      "28473/28473 [==============================] - 36s - loss: 0.0609 - val_loss: 0.0602\n",
      "Epoch 38/50\n",
      "28473/28473 [==============================] - 36s - loss: 0.0607 - val_loss: 0.0594\n",
      "Epoch 39/50\n",
      "28473/28473 [==============================] - 36s - loss: 0.0601 - val_loss: 0.0601\n",
      "Epoch 40/50\n",
      "28473/28473 [==============================] - 36s - loss: 0.0599 - val_loss: 0.0598\n",
      "Epoch 41/50\n",
      "28473/28473 [==============================] - 36s - loss: 0.0597 - val_loss: 0.0597\n",
      "Epoch 42/50\n",
      "28473/28473 [==============================] - 37s - loss: 0.0596 - val_loss: 0.0598\n",
      "Epoch 43/50\n",
      "28473/28473 [==============================] - 38s - loss: 0.0611 - val_loss: 0.0630\n",
      "Epoch 44/50\n",
      "28473/28473 [==============================] - 37s - loss: 0.0593 - val_loss: 0.0606\n",
      "Epoch 45/50\n",
      "28473/28473 [==============================] - 37s - loss: 0.0594 - val_loss: 0.0616\n",
      "Epoch 46/50\n",
      "28473/28473 [==============================] - 38s - loss: 0.0582 - val_loss: 0.0605\n",
      "Epoch 47/50\n",
      "28473/28473 [==============================] - 38s - loss: 0.0586 - val_loss: 0.0596\n",
      "Epoch 48/50\n",
      "28473/28473 [==============================] - 37s - loss: 0.0586 - val_loss: 0.0630\n",
      "Epoch 49/50\n",
      "28473/28473 [==============================] - 37s - loss: 0.0590 - val_loss: 0.0619\n",
      "Epoch 50/50\n",
      "28473/28473 [==============================] - 37s - loss: 0.0591 - val_loss: 0.0609\n"
     ]
    },
    {
     "ename": "AttributeError",
     "evalue": "'float' object has no attribute 'eval'",
     "output_type": "error",
     "traceback": [
      "\u001b[0;31m---------------------------------------------------------------------------\u001b[0m",
      "\u001b[0;31mAttributeError\u001b[0m                            Traceback (most recent call last)",
      "\u001b[0;32m<ipython-input-6-fed5e16f1f64>\u001b[0m in \u001b[0;36m<module>\u001b[0;34m()\u001b[0m\n\u001b[1;32m      1\u001b[0m \u001b[0mmodel\u001b[0m\u001b[0;34m.\u001b[0m\u001b[0mfit_generator\u001b[0m\u001b[0;34m(\u001b[0m\u001b[0mtrain_generator\u001b[0m\u001b[0;34m,\u001b[0m \u001b[0msamples_per_epoch\u001b[0m\u001b[0;34m=\u001b[0m             \u001b[0mlen\u001b[0m\u001b[0;34m(\u001b[0m\u001b[0mtrain_samples\u001b[0m\u001b[0;34m)\u001b[0m\u001b[0;34m*\u001b[0m\u001b[0;36m3\u001b[0m\u001b[0;34m,\u001b[0m \u001b[0mvalidation_data\u001b[0m\u001b[0;34m=\u001b[0m\u001b[0mvalidation_generator\u001b[0m\u001b[0;34m,\u001b[0m             \u001b[0mnb_val_samples\u001b[0m\u001b[0;34m=\u001b[0m\u001b[0mlen\u001b[0m\u001b[0;34m(\u001b[0m\u001b[0mvalidation_samples\u001b[0m\u001b[0;34m)\u001b[0m\u001b[0;34m*\u001b[0m\u001b[0;36m3\u001b[0m\u001b[0;34m,\u001b[0m \u001b[0mnb_epoch\u001b[0m\u001b[0;34m=\u001b[0m\u001b[0;36m50\u001b[0m\u001b[0;34m,\u001b[0m \u001b[0mcallbacks\u001b[0m\u001b[0;34m=\u001b[0m \u001b[0;34m[\u001b[0m\u001b[0mcheckpoint\u001b[0m\u001b[0;34m]\u001b[0m\u001b[0;34m,\u001b[0m \u001b[0mverbose\u001b[0m\u001b[0;34m=\u001b[0m\u001b[0;36m1\u001b[0m\u001b[0;34m)\u001b[0m\u001b[0;34m\u001b[0m\u001b[0m\n\u001b[0;32m----> 2\u001b[0;31m \u001b[0mmodel\u001b[0m\u001b[0;34m.\u001b[0m\u001b[0msave\u001b[0m\u001b[0;34m(\u001b[0m\u001b[0;34m'model.h5'\u001b[0m\u001b[0;34m)\u001b[0m\u001b[0;34m\u001b[0m\u001b[0m\n\u001b[0m",
      "\u001b[0;32m~/anaconda2/envs/carnd-term1/lib/python3.5/site-packages/keras/engine/topology.py\u001b[0m in \u001b[0;36msave\u001b[0;34m(self, filepath, overwrite)\u001b[0m\n\u001b[1;32m   2628\u001b[0m         \"\"\"\n\u001b[1;32m   2629\u001b[0m         \u001b[0;32mfrom\u001b[0m \u001b[0;34m.\u001b[0m\u001b[0;34m.\u001b[0m\u001b[0mmodels\u001b[0m \u001b[0;32mimport\u001b[0m \u001b[0msave_model\u001b[0m\u001b[0;34m\u001b[0m\u001b[0m\n\u001b[0;32m-> 2630\u001b[0;31m         \u001b[0msave_model\u001b[0m\u001b[0;34m(\u001b[0m\u001b[0mself\u001b[0m\u001b[0;34m,\u001b[0m \u001b[0mfilepath\u001b[0m\u001b[0;34m,\u001b[0m \u001b[0moverwrite\u001b[0m\u001b[0;34m)\u001b[0m\u001b[0;34m\u001b[0m\u001b[0m\n\u001b[0m\u001b[1;32m   2631\u001b[0m \u001b[0;34m\u001b[0m\u001b[0m\n\u001b[1;32m   2632\u001b[0m     \u001b[0;32mdef\u001b[0m \u001b[0msave_weights\u001b[0m\u001b[0;34m(\u001b[0m\u001b[0mself\u001b[0m\u001b[0;34m,\u001b[0m \u001b[0mfilepath\u001b[0m\u001b[0;34m,\u001b[0m \u001b[0moverwrite\u001b[0m\u001b[0;34m=\u001b[0m\u001b[0;32mTrue\u001b[0m\u001b[0;34m)\u001b[0m\u001b[0;34m:\u001b[0m\u001b[0;34m\u001b[0m\u001b[0m\n",
      "\u001b[0;32m~/anaconda2/envs/carnd-term1/lib/python3.5/site-packages/keras/models.py\u001b[0m in \u001b[0;36msave_model\u001b[0;34m(model, filepath, overwrite)\u001b[0m\n\u001b[1;32m     72\u001b[0m                 'optimizer_config': {\n\u001b[1;32m     73\u001b[0m                     \u001b[0;34m'class_name'\u001b[0m\u001b[0;34m:\u001b[0m \u001b[0mmodel\u001b[0m\u001b[0;34m.\u001b[0m\u001b[0moptimizer\u001b[0m\u001b[0;34m.\u001b[0m\u001b[0m__class__\u001b[0m\u001b[0;34m.\u001b[0m\u001b[0m__name__\u001b[0m\u001b[0;34m,\u001b[0m\u001b[0;34m\u001b[0m\u001b[0m\n\u001b[0;32m---> 74\u001b[0;31m                     \u001b[0;34m'config'\u001b[0m\u001b[0;34m:\u001b[0m \u001b[0mmodel\u001b[0m\u001b[0;34m.\u001b[0m\u001b[0moptimizer\u001b[0m\u001b[0;34m.\u001b[0m\u001b[0mget_config\u001b[0m\u001b[0;34m(\u001b[0m\u001b[0;34m)\u001b[0m\u001b[0;34m\u001b[0m\u001b[0m\n\u001b[0m\u001b[1;32m     75\u001b[0m                 },\n\u001b[1;32m     76\u001b[0m                 \u001b[0;34m'loss'\u001b[0m\u001b[0;34m:\u001b[0m \u001b[0mmodel\u001b[0m\u001b[0;34m.\u001b[0m\u001b[0mloss\u001b[0m\u001b[0;34m,\u001b[0m\u001b[0;34m\u001b[0m\u001b[0m\n",
      "\u001b[0;32m~/anaconda2/envs/carnd-term1/lib/python3.5/site-packages/keras/optimizers.py\u001b[0m in \u001b[0;36mget_config\u001b[0;34m(self)\u001b[0m\n\u001b[1;32m    442\u001b[0m \u001b[0;34m\u001b[0m\u001b[0m\n\u001b[1;32m    443\u001b[0m     \u001b[0;32mdef\u001b[0m \u001b[0mget_config\u001b[0m\u001b[0;34m(\u001b[0m\u001b[0mself\u001b[0m\u001b[0;34m)\u001b[0m\u001b[0;34m:\u001b[0m\u001b[0;34m\u001b[0m\u001b[0m\n\u001b[0;32m--> 444\u001b[0;31m         config = {'lr': float(K.get_value(self.lr)),\n\u001b[0m\u001b[1;32m    445\u001b[0m                   \u001b[0;34m'beta_1'\u001b[0m\u001b[0;34m:\u001b[0m \u001b[0mfloat\u001b[0m\u001b[0;34m(\u001b[0m\u001b[0mK\u001b[0m\u001b[0;34m.\u001b[0m\u001b[0mget_value\u001b[0m\u001b[0;34m(\u001b[0m\u001b[0mself\u001b[0m\u001b[0;34m.\u001b[0m\u001b[0mbeta_1\u001b[0m\u001b[0;34m)\u001b[0m\u001b[0;34m)\u001b[0m\u001b[0;34m,\u001b[0m\u001b[0;34m\u001b[0m\u001b[0m\n\u001b[1;32m    446\u001b[0m                   \u001b[0;34m'beta_2'\u001b[0m\u001b[0;34m:\u001b[0m \u001b[0mfloat\u001b[0m\u001b[0;34m(\u001b[0m\u001b[0mK\u001b[0m\u001b[0;34m.\u001b[0m\u001b[0mget_value\u001b[0m\u001b[0;34m(\u001b[0m\u001b[0mself\u001b[0m\u001b[0;34m.\u001b[0m\u001b[0mbeta_2\u001b[0m\u001b[0;34m)\u001b[0m\u001b[0;34m)\u001b[0m\u001b[0;34m,\u001b[0m\u001b[0;34m\u001b[0m\u001b[0m\n",
      "\u001b[0;32m~/anaconda2/envs/carnd-term1/lib/python3.5/site-packages/keras/backend/tensorflow_backend.py\u001b[0m in \u001b[0;36mget_value\u001b[0;34m(x)\u001b[0m\n\u001b[1;32m   1776\u001b[0m         \u001b[0mA\u001b[0m \u001b[0mNumpy\u001b[0m \u001b[0marray\u001b[0m\u001b[0;34m.\u001b[0m\u001b[0;34m\u001b[0m\u001b[0m\n\u001b[1;32m   1777\u001b[0m     \"\"\"\n\u001b[0;32m-> 1778\u001b[0;31m     \u001b[0;32mreturn\u001b[0m \u001b[0mx\u001b[0m\u001b[0;34m.\u001b[0m\u001b[0meval\u001b[0m\u001b[0;34m(\u001b[0m\u001b[0msession\u001b[0m\u001b[0;34m=\u001b[0m\u001b[0mget_session\u001b[0m\u001b[0;34m(\u001b[0m\u001b[0;34m)\u001b[0m\u001b[0;34m)\u001b[0m\u001b[0;34m\u001b[0m\u001b[0m\n\u001b[0m\u001b[1;32m   1779\u001b[0m \u001b[0;34m\u001b[0m\u001b[0m\n\u001b[1;32m   1780\u001b[0m \u001b[0;34m\u001b[0m\u001b[0m\n",
      "\u001b[0;31mAttributeError\u001b[0m: 'float' object has no attribute 'eval'"
     ]
    }
   ],
   "source": [
    "model.fit_generator(train_generator, samples_per_epoch= \\\n",
    "            len(train_samples)*3, validation_data=validation_generator, \\\n",
    "            nb_val_samples=len(validation_samples)*3, nb_epoch=50, callbacks= [checkpoint], verbose=1)\n",
    "model.save('model.h5')\n"
   ]
  },
  {
   "cell_type": "markdown",
   "metadata": {},
   "source": [
    "## Data exploration"
   ]
  },
  {
   "cell_type": "code",
   "execution_count": null,
   "metadata": {
    "collapsed": true
   },
   "outputs": [],
   "source": []
  },
  {
   "cell_type": "code",
   "execution_count": null,
   "metadata": {
    "collapsed": true
   },
   "outputs": [],
   "source": [
    "train_samples[:][3]"
   ]
  },
  {
   "cell_type": "code",
   "execution_count": null,
   "metadata": {
    "collapsed": true
   },
   "outputs": [],
   "source": [
    "type(train_samples)"
   ]
  },
  {
   "cell_type": "code",
   "execution_count": null,
   "metadata": {
    "collapsed": true
   },
   "outputs": [],
   "source": [
    "angles = np.asarray([item[3] for item in train_samples]).astype(np.float)"
   ]
  },
  {
   "cell_type": "code",
   "execution_count": null,
   "metadata": {
    "collapsed": true
   },
   "outputs": [],
   "source": [
    "type(angles)"
   ]
  },
  {
   "cell_type": "code",
   "execution_count": null,
   "metadata": {
    "collapsed": true
   },
   "outputs": [],
   "source": [
    "max(angles)\n",
    "np.histogram(angles)"
   ]
  },
  {
   "cell_type": "code",
   "execution_count": null,
   "metadata": {
    "collapsed": true
   },
   "outputs": [],
   "source": [
    "import matplotlib.pyplot as plt\n",
    "plt.hist(angles)\n"
   ]
  },
  {
   "cell_type": "code",
   "execution_count": null,
   "metadata": {
    "collapsed": true
   },
   "outputs": [],
   "source": [
    "fig = plt.gcf()\n"
   ]
  },
  {
   "cell_type": "code",
   "execution_count": null,
   "metadata": {
    "collapsed": true
   },
   "outputs": [],
   "source": []
  }
 ],
 "metadata": {
  "kernelspec": {
   "display_name": "Python [conda env:carnd-term1]",
   "language": "python",
   "name": "conda-env-carnd-term1-py"
  },
  "language_info": {
   "codemirror_mode": {
    "name": "ipython",
    "version": 3
   },
   "file_extension": ".py",
   "mimetype": "text/x-python",
   "name": "python",
   "nbconvert_exporter": "python",
   "pygments_lexer": "ipython3",
   "version": "3.5.2"
  }
 },
 "nbformat": 4,
 "nbformat_minor": 2
}
